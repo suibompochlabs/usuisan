{
 "cells": [
  {
   "cell_type": "code",
   "execution_count": 2,
   "metadata": {},
   "outputs": [],
   "source": [
    "import numpy as np\n",
    "from random import randrange\n",
    "from datetime import datetime, timedelta\n",
    "import random\n",
    "import pandas as pd"
   ]
  },
  {
   "cell_type": "code",
   "execution_count": 3,
   "metadata": {},
   "outputs": [
    {
     "name": "stdout",
     "output_type": "stream",
     "text": [
      "2014-02-05 13:11:21\n"
     ]
    }
   ],
   "source": [
    "l = datetime(2014,2,5,13,11,21)\n",
    "print(str(l))"
   ]
  },
  {
   "cell_type": "code",
   "execution_count": 10,
   "metadata": {},
   "outputs": [
    {
     "name": "stdout",
     "output_type": "stream",
     "text": [
      "--artists side--\n",
      "number of plays from one person to match the income on avg platform\n",
      "301.4285714285714\n",
      "sub cost\n",
      "$ 2.11\n",
      "income from 10000 new subs in 1 month\n",
      "$ 21100.0\n",
      "assuming 4.2 songs are bought by the end of term\n",
      "-song price-\n",
      "$ 0.81\n",
      "total profit for month\n",
      "$ 41053.33 from 10000 new subscriptions and 4.2 songs bought by each of them\n",
      "which equates to 5864762.0 streams on avg platform\n",
      "--listeners side--\n",
      "average cost to listener for 3 month of listening and 4.2 new songs kept forever\n",
      "$ 4.11\n",
      "--\n",
      "given the existing cost of streaming the number of subs fans\n",
      "could buy in a year on a 3 month long sub cycle\n",
      "56.87\n",
      "--which equates to--\n",
      "170.62 subscription*months\n",
      "on average access to 114.0 songs a month if avg artist has 8 songs\n"
     ]
    }
   ],
   "source": [
    "from datetime import datetime, timedelta\n",
    "\n",
    "def gen_datetime(min_year, max_year):\n",
    "    # generate a datetime in format yyyy-mm-dd hh:mm:ss.000000\n",
    "    start = datetime(min_year, 1, 1, 00, 00, 00)\n",
    "    years = max_year - min_year + 1\n",
    "    end = start + timedelta(days=365 * years)\n",
    "    return start + (end - start) * random.random()\n",
    "\n",
    "# need to setup a database that populates for a given time period and manipulate that\n",
    "\n",
    "transs = 100\n",
    "transaction = np.linspace(0,50,51)\n",
    "date = np.empty(0)\n",
    "miny = 2020\n",
    "maxy = 2020\n",
    "for i in range(0,transs):\n",
    "    timestamps = gen_datetime(min_year = miny, max_year = maxy)\n",
    "    date = np.append(date,timestamps)\n",
    "\n",
    "# want to create a system that enables a fluctuating cost of subscription\n",
    "# on a scale that doesn't get out of hand. initially the cost should\n",
    "# increase on a daily cycle that if lots of people are subscribing\n",
    "# within a day, the cost doesn't increase. Then looking at optimization, \n",
    "# to have a limit of a subscription cost. Then to subtly get closer to\n",
    "# this limit. Depending on the length of the subscription, I think this\n",
    "# cost limit should correlate closely with. initial guess would be\n",
    "# \n",
    "# 1 month = $0.70\n",
    "# 3 month = $2.10 \n",
    "# 6 month = $5.00\n",
    "# 1 year = $8.00\n",
    "#\n",
    "# the length of a subscription is determined by the artist. the cost of \n",
    "# **$0.70** a month for the lowest subscriptions correlates with the \n",
    "# current pricing system as seen below (avg payout: $0.007 per play)\n",
    "\n",
    "sub_length = 3\n",
    "sub_cost = 2.11\n",
    "one_month_cost = sub_cost / sub_length\n",
    "avg_song_cost = .81\n",
    "month_new_subs = 10000\n",
    "\n",
    "print('--artists side--')\n",
    "print('number of plays from one person to match the income on avg platform')\n",
    "print(sub_cost/0.007)\n",
    "print('sub cost')\n",
    "print('$',sub_cost)\n",
    "print('income from',month_new_subs,'new subs in 1 month')\n",
    "print('$',month_new_subs*sub_cost)\n",
    "print('assuming 4.2 songs are bought by the end of term')\n",
    "print('-song price-')\n",
    "print('$',avg_song_cost)\n",
    "print('total profit for month')\n",
    "print('$',round(month_new_subs*one_month_cost + month_new_subs*avg_song_cost*4.2,2),'from',month_new_subs,'new subscriptions and 4.2 songs bought by each of them')\n",
    "print('which equates to',round((month_new_subs*one_month_cost + month_new_subs*avg_song_cost*4.2)/0.007,0),'streams on avg platform')\n",
    "print('--listeners side--')\n",
    "print('average cost to listener for',sub_length,'month of listening and 4.2 new songs kept forever')\n",
    "print('$',round(one_month_cost + 4.2*avg_song_cost,2))\n",
    "print('--')\n",
    "print('given the existing cost of streaming the number of subs fans')\n",
    "print('could buy in a year on a',sub_length,'month long sub cycle')\n",
    "print(round(120/sub_cost,2))\n",
    "print('--which equates to--')\n",
    "print(round(120/sub_cost*sub_length,2),'subscription*months')\n",
    "print('on average access to',round(8*120/sub_cost*sub_length/12,0),'songs a month if avg artist has 8 songs')\n"
   ]
  },
  {
   "cell_type": "code",
   "execution_count": null,
   "metadata": {},
   "outputs": [],
   "source": [
    "date.sort()\n",
    "initcost = np.zeros(transs)\n",
    "initcost1 = 0.55\n",
    "ribs = np.zeros(transs)\n",
    "ribs[0] = 500\n",
    "cos = np.zeros(transs)\n",
    "cos[0] = initcost1\n",
    "dell = np.zeros(transs)\n",
    "dell[0] = 0\n",
    "for i in range(1,len(date)):\n",
    "    date_i = (date[i])\n",
    "    initcost[i] = initcost1\n",
    "    time_delta = date[i] - date[i-1]\n",
    "    ribs[i] = ribs[i-1]+1\n",
    "    if(time_delta.days<1):\n",
    "        cos[i]=cos[i-1]+0.02\n",
    "        dell[i] = dell[i-1]+1\n",
    "    else:\n",
    "        cos[i]=cos[i-1]\n",
    "        dell[i] = dell[i-1]\n",
    "\n",
    "date_df = pd.DataFrame({'timestamp':date[:]})\n",
    "subcost_df = pd.DataFrame({'initcost':initcost[:]})\n",
    "ribs_df = pd.DataFrame({'ribs':ribs[:]})\n",
    "cos_df = pd.DataFrame({'cos':cos[:]})\n",
    "dell_df = pd.DataFrame({'dell':dell[:]})\n",
    "df = pd.concat([date_df,subcost_df,ribs_df,cos_df,dell_df],axis=1)\n",
    "df"
   ]
  }
 ],
 "metadata": {
  "kernelspec": {
   "display_name": "Python 3",
   "language": "python",
   "name": "python3"
  },
  "language_info": {
   "codemirror_mode": {
    "name": "ipython",
    "version": 3
   },
   "file_extension": ".py",
   "mimetype": "text/x-python",
   "name": "python",
   "nbconvert_exporter": "python",
   "pygments_lexer": "ipython3",
   "version": "3.7.3"
  }
 },
 "nbformat": 4,
 "nbformat_minor": 2
}
